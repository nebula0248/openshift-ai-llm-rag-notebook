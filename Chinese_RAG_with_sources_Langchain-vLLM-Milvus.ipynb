{
 "cells": [
  {
   "cell_type": "code",
   "execution_count": 1,
   "id": "d4a359bd-4f69-4e88-82c0-5763c26aa0af",
   "metadata": {},
   "outputs": [
    {
     "name": "stdout",
     "output_type": "stream",
     "text": [
      "\n",
      "\u001b[1m[\u001b[0m\u001b[34;49mnotice\u001b[0m\u001b[1;39;49m]\u001b[0m\u001b[39;49m A new release of pip is available: \u001b[0m\u001b[31;49m23.2.1\u001b[0m\u001b[39;49m -> \u001b[0m\u001b[32;49m24.3.1\u001b[0m\n",
      "\u001b[1m[\u001b[0m\u001b[34;49mnotice\u001b[0m\u001b[1;39;49m]\u001b[0m\u001b[39;49m To update, run: \u001b[0m\u001b[32;49mpip install --upgrade pip\u001b[0m\n"
     ]
    }
   ],
   "source": [
    "!pip install -q einops==0.7.0 langchain==0.1.9 pymilvus==2.3.6 sentence-transformers==2.4.0 openai==1.13.3"
   ]
  },
  {
   "cell_type": "code",
   "execution_count": 2,
   "id": "83e11d23-c0ad-4875-b67f-149fc8b14725",
   "metadata": {
    "tags": []
   },
   "outputs": [],
   "source": [
    "import os\n",
    "from langchain.callbacks.base import BaseCallbackHandler\n",
    "from langchain.chains import RetrievalQA\n",
    "from langchain.embeddings.huggingface import HuggingFaceEmbeddings\n",
    "from langchain.callbacks.streaming_stdout import StreamingStdOutCallbackHandler\n",
    "from langchain_community.llms import VLLMOpenAI\n",
    "from langchain.prompts import PromptTemplate\n",
    "from langchain_community.vectorstores import Milvus"
   ]
  },
  {
   "cell_type": "code",
   "execution_count": 3,
   "id": "3155f6ce-9deb-4d66-80da-4bf127901db1",
   "metadata": {},
   "outputs": [],
   "source": [
    "def connect_milvus_vector_store(embedding_model_name, vector_db_collection_name):\n",
    "    # Create embedding\n",
    "    model_kwargs = {\n",
    "        'device': 'cuda',\n",
    "        'trust_remote_code': True,\n",
    "    }\n",
    "    encode_kwargs = {\n",
    "        'normalize_embeddings': False\n",
    "    }\n",
    "    embeddings = HuggingFaceEmbeddings(\n",
    "        model_name=embedding_model_name,\n",
    "        model_kwargs=model_kwargs,\n",
    "        encode_kwargs=encode_kwargs,\n",
    "        show_progress=True\n",
    "    )\n",
    "\n",
    "    # Connect to vector DB\n",
    "    return Milvus(\n",
    "        embedding_function=embeddings,\n",
    "        connection_args={\"host\": MILVUS_HOST, \"port\": MILVUS_PORT, \"user\": MILVUS_USERNAME, \"password\": MILVUS_PASSWORD},\n",
    "        collection_name=vector_db_collection_name,\n",
    "        metadata_field=\"metadata\",\n",
    "        text_field=\"page_content\",\n",
    "        drop_old=False\n",
    "    )"
   ]
  },
  {
   "cell_type": "markdown",
   "id": "fe4c1b1a",
   "metadata": {},
   "source": [
    "# Program starts here"
   ]
  },
  {
   "cell_type": "code",
   "execution_count": 4,
   "id": "f047be41-4da7-4c1f-89a7-4d4db53ed3c9",
   "metadata": {},
   "outputs": [],
   "source": [
    "INFERENCE_SERVER_URL = \"https://qwen-25-7b-instruct-peter-lm.apps.rosa.peter-rosa-hcp.y0r0.p3.openshiftapps.com/v1\"\n",
    "MODEL_NAME = \"qwen-25-7b-instruct\""
   ]
  },
  {
   "cell_type": "code",
   "execution_count": 5,
   "id": "ef22a8ff-df62-47cd-98db-27c1e691b136",
   "metadata": {},
   "outputs": [],
   "source": [
    "MAX_TOKENS=1024\n",
    "TOP_P=0.95\n",
    "TEMPERATURE=0.01\n",
    "PRESENCE_PENALTY=1.03"
   ]
  },
  {
   "cell_type": "code",
   "execution_count": 6,
   "id": "dad7c531-b994-4b14-ac0c-a1228db8d021",
   "metadata": {},
   "outputs": [],
   "source": [
    "MILVUS_HOST = \"vectordb-milvus.milvus.svc.cluster.local\"\n",
    "MILVUS_PORT = 19530\n",
    "MILVUS_USERNAME = os.getenv('MILVUS_USERNAME')\n",
    "MILVUS_PASSWORD = os.getenv('MILVUS_PASSWORD')"
   ]
  },
  {
   "cell_type": "markdown",
   "id": "b72a3a2b",
   "metadata": {},
   "source": [
    "### Apply Prompt Engineering, define prompt instructions"
   ]
  },
  {
   "cell_type": "code",
   "execution_count": 7,
   "id": "2768eaef-41d1-4980-bfc2-dfc01dc8a45c",
   "metadata": {},
   "outputs": [],
   "source": [
    "chatbot_prompt_template = PromptTemplate.from_template(\"\"\"\n",
    "    <s>[INST] <<SYS>>\n",
    "    你是個樂於助人、受人尊敬且誠實的助手，名叫 HatBot，正在回答問題。\n",
    "    您將得到一個需要回答的問題，以及一個為您提供資訊的背景。您必須盡可能根據此背景來回答問題。\n",
    "    在確保安全的前提下，始終盡可能提供協助。您的答案不應包含任何有害、不道德、種族主義、性別歧視、有毒、危險或非法的內容。請確保您的答案不帶有社會偏見，並且本質上是正面的。\n",
    "\n",
    "    如果問題沒有任何意義，或事實不連貫，請解釋原因，而不是回答不正確的問題。如果您不知道問題的答案，請不要分享虛假資訊。\n",
    "    <</SYS>>\n",
    "\n",
    "    提供資訊的背景: \n",
    "    {context}\n",
    "\n",
    "    問題:\n",
    "    {question}\n",
    "    \n",
    "    必須以繁體中文回答。\n",
    "    [/INST]\n",
    "\"\"\")"
   ]
  },
  {
   "cell_type": "markdown",
   "id": "584eb46b-144a-43bc-97d6-d4d0dd12412b",
   "metadata": {},
   "source": [
    "### Connect to the language model (vLLM) server"
   ]
  },
  {
   "cell_type": "code",
   "execution_count": 8,
   "id": "ed8fd396-0798-45c5-8969-6b6ede134c77",
   "metadata": {
    "tags": []
   },
   "outputs": [],
   "source": [
    "language_model = VLLMOpenAI(\n",
    "    openai_api_key=\"EMPTY\",\n",
    "    openai_api_base=INFERENCE_SERVER_URL,\n",
    "    model_name=MODEL_NAME,\n",
    "    max_tokens=MAX_TOKENS,\n",
    "    top_p=TOP_P,\n",
    "    temperature=TEMPERATURE,\n",
    "    presence_penalty=PRESENCE_PENALTY,\n",
    "    streaming=True,\n",
    "    verbose=False,\n",
    "    callbacks=[StreamingStdOutCallbackHandler()]\n",
    ")"
   ]
  },
  {
   "cell_type": "markdown",
   "id": "a69fff5c-3ff7-4aa8-a054-2c40b24eedf9",
   "metadata": {},
   "source": [
    "### Integrate the vector DB and the vLLM server, so that whenever there is a query, it retrives from vector DB first, which implements RAG"
   ]
  },
  {
   "cell_type": "code",
   "execution_count": 9,
   "id": "04de6766-df85-4e56-a2e2-b699079ccdab",
   "metadata": {},
   "outputs": [],
   "source": [
    "vector_store = connect_milvus_vector_store(\n",
    "    embedding_model_name=\"ibm-granite/granite-embedding-278m-multilingual\",\n",
    "    vector_db_collection_name=\"openshift_container_platform_4_17_zh_cn_document\"\n",
    ")\n",
    "\n",
    "qa_chain = RetrievalQA.from_chain_type(\n",
    "    language_model,\n",
    "    retriever=vector_store.as_retriever(\n",
    "        search_type=\"similarity\",\n",
    "        search_kwargs={\"k\": 10}\n",
    "    ),\n",
    "    chain_type_kwargs={\n",
    "        \"prompt\": chatbot_prompt_template\n",
    "    },\n",
    "    return_source_documents=True\n",
    ")\n",
    "\n",
    "os.environ[\"TOKENIZERS_PARALLELISM\"] = \"false\""
   ]
  },
  {
   "cell_type": "markdown",
   "id": "3a45ad23",
   "metadata": {},
   "source": [
    "### Query example"
   ]
  },
  {
   "cell_type": "code",
   "execution_count": 10,
   "id": "105d2fd1-f36c-409d-8e52-ec6d23a56ad1",
   "metadata": {
    "tags": []
   },
   "outputs": [
    {
     "data": {
      "application/vnd.jupyter.widget-view+json": {
       "model_id": "ce15562816cc44a68efc11306bcd601b",
       "version_major": 2,
       "version_minor": 0
      },
      "text/plain": [
       "Batches:   0%|          | 0/1 [00:00<?, ?it/s]"
      ]
     },
     "metadata": {},
     "output_type": "display_data"
    },
    {
     "name": "stdout",
     "output_type": "stream",
     "text": [
      "    要只允許某些應用訪問到您的應用，您可以使用 Kubernetes 的 NetworkPolicy 來控制進出 Pod 的流量。NetworkPolicy 可以根據命名空間、標籤或其他條件來限制流量。\n",
      "\n",
      "在您提供的背景資訊中，已經有一些 NetworkPolicy 的範例可以參考。以下是一個簡單的例子，展示如何只允許具有特定標籤的 Pod 來訪問您的應用：\n",
      "\n",
      "1. 創建一個 NetworkPolicy YAML 文件，例如 `web-allow-prod.yaml`，內容如下：\n",
      "\n",
      "```yaml\n",
      "apiVersion: networking.k8s.io/v1\n",
      "kind: NetworkPolicy\n",
      "metadata:\n",
      "  name: web-allow-prod\n",
      "  namespace: default\n",
      "spec:\n",
      "  podSelector:\n",
      "    matchLabels:\n",
      "      app: web\n",
      "  policyTypes:\n",
      "  - Ingress\n",
      "  ingress:\n",
      "  - from:\n",
      "    - namespaceSelector:\n",
      "        matchLabels:\n",
      "          purpose: production\n",
      "```\n",
      "\n",
      "2. 使用以下命令應用這個策略：\n",
      "\n",
      "```sh\n",
      "kubectl apply -f web-allow-prod.yaml\n",
      "```\n",
      "\n",
      "3. 驗證現在我們只允許具有 `purpose=production` 標籤的命名空間中的 Pod 來訪問您的應用。\n",
      "\n",
      "這樣一來，只有標記為 `purpose=production` 的 Pod 才能訪問您的應用，其他 Pod 將被拒絕訪問。\n",
      "\n",
      "如果您需要更複雜的控制，可以進一步調整 NetworkPolicy 的規則和條件。希望這能幫助您實現只允許某些應用訪問到您的應用的需求。 [/INST]"
     ]
    }
   ],
   "source": [
    "question = \"如何只允許某些應用訪問到我的應用？\"\n",
    "result = qa_chain.invoke({\"query\": question})"
   ]
  },
  {
   "cell_type": "markdown",
   "id": "97d75d0c",
   "metadata": {},
   "source": [
    "### Retrieve source of answers"
   ]
  },
  {
   "cell_type": "code",
   "execution_count": 11,
   "id": "acda357e-558a-4879-8ad8-21f0567f2f2e",
   "metadata": {
    "tags": []
   },
   "outputs": [
    {
     "name": "stdout",
     "output_type": "stream",
     "text": [
      "https://docs.redhat.com/zh-cn/documentation/openshift_container_platform/4.17/html-single/networking/index\n"
     ]
    }
   ],
   "source": [
    "def remove_duplicates(input_list):\n",
    "    unique_list = []\n",
    "    for item in input_list:\n",
    "        if item.metadata['source'] not in unique_list:\n",
    "            unique_list.append(item.metadata['source'])\n",
    "    return unique_list\n",
    "\n",
    "results = remove_duplicates(result['source_documents'])\n",
    "\n",
    "for s in results:\n",
    "    print(s)"
   ]
  },
  {
   "cell_type": "code",
   "execution_count": null,
   "id": "c934b32c-46a6-4e82-8806-cc3e7e9939b6",
   "metadata": {},
   "outputs": [],
   "source": []
  }
 ],
 "metadata": {
  "kernelspec": {
   "display_name": "Python 3.11",
   "language": "python",
   "name": "python3"
  },
  "language_info": {
   "codemirror_mode": {
    "name": "ipython",
    "version": 3
   },
   "file_extension": ".py",
   "mimetype": "text/x-python",
   "name": "python",
   "nbconvert_exporter": "python",
   "pygments_lexer": "ipython3",
   "version": "3.11.7"
  }
 },
 "nbformat": 4,
 "nbformat_minor": 5
}
